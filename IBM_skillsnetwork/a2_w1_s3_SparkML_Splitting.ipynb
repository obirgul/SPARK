{
 "cells": [
  {
   "cell_type": "code",
   "execution_count": 1,
   "metadata": {
    "ExecuteTime": {
     "end_time": "2020-05-06T12:22:59.129618Z",
     "start_time": "2020-05-06T12:22:54.988747Z"
    }
   },
   "outputs": [],
   "source": [
    "    from pyspark import SparkContext, SparkConf\n",
    "    from pyspark.sql import SparkSession\n",
    "\n",
    "    sc = SparkContext.getOrCreate(SparkConf().setMaster(\"local[*]\"))\n",
    "    \n",
    "    spark = SparkSession \\\n",
    "        .builder \\\n",
    "        .getOrCreate()"
   ]
  },
  {
   "cell_type": "code",
   "execution_count": 2,
   "metadata": {
    "ExecuteTime": {
     "end_time": "2020-05-06T12:23:20.904346Z",
     "start_time": "2020-05-06T12:23:17.287203Z"
    }
   },
   "outputs": [],
   "source": [
    "# create a dataframe out of it\n",
    "df = spark.read.parquet('/Users/orcun/PythonProjects/skillsnetwork/hmp.parquet')\n",
    "\n",
    "# register a corresponding query table\n",
    "df.createOrReplaceTempView('df')"
   ]
  },
  {
   "cell_type": "code",
   "execution_count": 3,
   "metadata": {
    "ExecuteTime": {
     "end_time": "2020-05-06T12:23:23.263317Z",
     "start_time": "2020-05-06T12:23:22.991762Z"
    }
   },
   "outputs": [],
   "source": [
    "df_energy = spark.sql(\"\"\"\n",
    "select sqrt(sum(x*x)+sum(y*y)+sum(z*z)) as label, class from df group by class\n",
    "\"\"\")      \n",
    "df_energy.createOrReplaceTempView('df_energy') "
   ]
  },
  {
   "cell_type": "code",
   "execution_count": 4,
   "metadata": {
    "ExecuteTime": {
     "end_time": "2020-05-06T12:23:24.176245Z",
     "start_time": "2020-05-06T12:23:24.072007Z"
    }
   },
   "outputs": [],
   "source": [
    "df_join = spark.sql('select * from df inner join df_energy on df.class=df_energy.class')"
   ]
  },
  {
   "cell_type": "code",
   "execution_count": 5,
   "metadata": {
    "ExecuteTime": {
     "end_time": "2020-05-06T12:23:25.240437Z",
     "start_time": "2020-05-06T12:23:25.199822Z"
    }
   },
   "outputs": [],
   "source": [
    "splits = df_join.randomSplit([0.8, 0.2])\n",
    "df_train = splits[0]\n",
    "df_test = splits[1]"
   ]
  },
  {
   "cell_type": "code",
   "execution_count": 6,
   "metadata": {
    "ExecuteTime": {
     "end_time": "2020-05-06T12:23:29.694335Z",
     "start_time": "2020-05-06T12:23:25.795583Z"
    }
   },
   "outputs": [
    {
     "data": {
      "text/plain": [
       "356818"
      ]
     },
     "execution_count": 6,
     "metadata": {},
     "output_type": "execute_result"
    }
   ],
   "source": [
    "df_train.count()"
   ]
  },
  {
   "cell_type": "code",
   "execution_count": 7,
   "metadata": {
    "ExecuteTime": {
     "end_time": "2020-05-06T12:23:32.276977Z",
     "start_time": "2020-05-06T12:23:30.862899Z"
    }
   },
   "outputs": [
    {
     "data": {
      "text/plain": [
       "89711"
      ]
     },
     "execution_count": 7,
     "metadata": {},
     "output_type": "execute_result"
    }
   ],
   "source": [
    "df_test.count()"
   ]
  },
  {
   "cell_type": "code",
   "execution_count": 8,
   "metadata": {
    "ExecuteTime": {
     "end_time": "2020-05-06T12:23:34.746682Z",
     "start_time": "2020-05-06T12:23:34.632995Z"
    }
   },
   "outputs": [],
   "source": [
    "from pyspark.ml.feature import VectorAssembler\n",
    "from pyspark.ml.feature import MinMaxScaler\n",
    "\n",
    "\n",
    "vectorAssembler = VectorAssembler(inputCols=[\"x\",\"y\",\"z\"],\n",
    "                                  outputCol=\"features\")\n",
    "normalizer = MinMaxScaler(inputCol=\"features\", outputCol=\"features_norm\")\n",
    "\n"
   ]
  },
  {
   "cell_type": "code",
   "execution_count": 9,
   "metadata": {
    "ExecuteTime": {
     "end_time": "2020-05-06T12:23:35.744807Z",
     "start_time": "2020-05-06T12:23:35.713454Z"
    }
   },
   "outputs": [],
   "source": [
    "from pyspark.ml.regression import LinearRegression\n",
    "\n",
    "lr = LinearRegression(maxIter=10, regParam=0.3, elasticNetParam=0.8)\n"
   ]
  },
  {
   "cell_type": "code",
   "execution_count": 10,
   "metadata": {
    "ExecuteTime": {
     "end_time": "2020-05-06T12:23:45.970392Z",
     "start_time": "2020-05-06T12:23:37.178137Z"
    }
   },
   "outputs": [],
   "source": [
    "from pyspark.ml import Pipeline\n",
    "pipeline = Pipeline(stages=[vectorAssembler, normalizer,lr])\n",
    "\n",
    "model = pipeline.fit(df_train)"
   ]
  },
  {
   "cell_type": "code",
   "execution_count": 11,
   "metadata": {
    "ExecuteTime": {
     "end_time": "2020-05-06T12:23:46.954512Z",
     "start_time": "2020-05-06T12:23:46.945064Z"
    }
   },
   "outputs": [
    {
     "data": {
      "text/plain": [
       "0.03251505478711836"
      ]
     },
     "execution_count": 11,
     "metadata": {},
     "output_type": "execute_result"
    }
   ],
   "source": [
    "model.stages[2].summary.r2"
   ]
  },
  {
   "cell_type": "code",
   "execution_count": 12,
   "metadata": {
    "ExecuteTime": {
     "end_time": "2020-05-06T12:23:53.923227Z",
     "start_time": "2020-05-06T12:23:47.736555Z"
    }
   },
   "outputs": [],
   "source": [
    "model = pipeline.fit(df_test)"
   ]
  },
  {
   "cell_type": "code",
   "execution_count": 13,
   "metadata": {
    "ExecuteTime": {
     "end_time": "2020-05-06T12:23:58.846698Z",
     "start_time": "2020-05-06T12:23:58.839460Z"
    }
   },
   "outputs": [
    {
     "data": {
      "text/plain": [
       "0.03290042128725357"
      ]
     },
     "execution_count": 13,
     "metadata": {},
     "output_type": "execute_result"
    }
   ],
   "source": [
    "model.stages[2].summary.r2"
   ]
  }
 ],
 "metadata": {
  "hide_input": false,
  "kernelspec": {
   "display_name": "Python 3",
   "language": "python",
   "name": "python3"
  },
  "language_info": {
   "codemirror_mode": {
    "name": "ipython",
    "version": 3
   },
   "file_extension": ".py",
   "mimetype": "text/x-python",
   "name": "python",
   "nbconvert_exporter": "python",
   "pygments_lexer": "ipython3",
   "version": "3.7.6"
  },
  "varInspector": {
   "cols": {
    "lenName": 16,
    "lenType": 16,
    "lenVar": 40
   },
   "kernels_config": {
    "python": {
     "delete_cmd_postfix": "",
     "delete_cmd_prefix": "del ",
     "library": "var_list.py",
     "varRefreshCmd": "print(var_dic_list())"
    },
    "r": {
     "delete_cmd_postfix": ") ",
     "delete_cmd_prefix": "rm(",
     "library": "var_list.r",
     "varRefreshCmd": "cat(var_dic_list()) "
    }
   },
   "types_to_exclude": [
    "module",
    "function",
    "builtin_function_or_method",
    "instance",
    "_Feature"
   ],
   "window_display": false
  }
 },
 "nbformat": 4,
 "nbformat_minor": 4
}
