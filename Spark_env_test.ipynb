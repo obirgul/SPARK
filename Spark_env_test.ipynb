{
 "cells": [
  {
   "cell_type": "code",
   "execution_count": 1,
   "metadata": {
    "ExecuteTime": {
     "end_time": "2020-05-15T13:45:37.097801Z",
     "start_time": "2020-05-15T13:45:37.087755Z"
    }
   },
   "outputs": [
    {
     "data": {
      "text/plain": [
       "'\\nimport os\\nimport sys\\nspark_path = r\"/usr/local/lib/python3.7/site-packages/pyspark\" # spark installed folder\\nos.environ[\\'SPARK_HOME\\'] = spark_path\\nsys.path.insert(0, spark_path + \"/bin\")\\nsys.path.insert(0, spark_path + \"/python/pyspark\" )\\nsys.path.insert(0, spark_path + \"/python/lib/pyspark\")\\nsys.path.insert(0, spark_path + \"/python/lib/py4j-0.10.7-src.zip\")\\n'"
      ]
     },
     "execution_count": 1,
     "metadata": {},
     "output_type": "execute_result"
    }
   ],
   "source": [
    "# PREPARE SPARK ENVIRONMENT FOR MAC SYSTEM\n",
    "\n",
    "\"\"\"\n",
    "import os\n",
    "import sys\n",
    "spark_path = r\"/usr/local/lib/python3.7/site-packages/pyspark\" # spark installed folder\n",
    "os.environ['SPARK_HOME'] = spark_path\n",
    "sys.path.insert(0, spark_path + \"/bin\")\n",
    "sys.path.insert(0, spark_path + \"/python/pyspark\" )\n",
    "sys.path.insert(0, spark_path + \"/python/lib/pyspark\")\n",
    "sys.path.insert(0, spark_path + \"/python/lib/py4j-0.10.7-src.zip\")\n",
    "\"\"\""
   ]
  },
  {
   "cell_type": "code",
   "execution_count": 2,
   "metadata": {
    "ExecuteTime": {
     "end_time": "2020-05-15T13:45:39.284447Z",
     "start_time": "2020-05-15T13:45:39.194019Z"
    }
   },
   "outputs": [],
   "source": [
    "#import pyspark\n",
    "from pyspark import SparkContext\n",
    "from pyspark.sql import SparkSession\n",
    "from pyspark.conf import SparkConf"
   ]
  },
  {
   "cell_type": "code",
   "execution_count": 3,
   "metadata": {
    "ExecuteTime": {
     "end_time": "2020-05-15T13:45:39.650732Z",
     "start_time": "2020-05-15T13:45:39.641788Z"
    }
   },
   "outputs": [
    {
     "data": {
      "text/plain": [
       "'/usr/local/lib/python3.7/site-packages/pyspark'"
      ]
     },
     "execution_count": 3,
     "metadata": {},
     "output_type": "execute_result"
    }
   ],
   "source": [
    "import findspark\n",
    "findspark.init('/usr/local/lib/python3.7/site-packages/pyspark')\n",
    "\n",
    "findspark.find()"
   ]
  },
  {
   "cell_type": "code",
   "execution_count": 4,
   "metadata": {
    "ExecuteTime": {
     "end_time": "2020-05-15T13:46:34.065473Z",
     "start_time": "2020-05-15T13:46:12.199398Z"
    },
    "scrolled": true
   },
   "outputs": [
    {
     "name": "stdout",
     "output_type": "stream",
     "text": [
      "Number of random points: 1000000\n",
      "Mean: [-0.00090741 -0.00081229]\n",
      "stdev: [0.57707244 0.57730184]\n"
     ]
    }
   ],
   "source": [
    "sc = SparkContext.getOrCreate()\n",
    "import numpy as np\n",
    "TOTAL = 1000000\n",
    "dots = sc.parallelize([2.0 * np.random.random(2) - 1.0 for i in range(TOTAL)]).cache()\n",
    "print(\"Number of random points:\", dots.count())\n",
    "stats = dots.stats()\n",
    "print('Mean:', stats.mean())\n",
    "print('stdev:', stats.stdev())"
   ]
  },
  {
   "cell_type": "code",
   "execution_count": 5,
   "metadata": {
    "ExecuteTime": {
     "end_time": "2020-05-15T13:46:37.020261Z",
     "start_time": "2020-05-15T13:46:36.171516Z"
    }
   },
   "outputs": [],
   "source": [
    "spark=SparkSession.builder \\\n",
    ".master(\"local[4]\") \\\n",
    ".appName(\"Wordcount_RDD\") \\\n",
    ".getOrCreate()"
   ]
  },
  {
   "cell_type": "code",
   "execution_count": 6,
   "metadata": {
    "ExecuteTime": {
     "end_time": "2020-05-15T13:46:37.053846Z",
     "start_time": "2020-05-15T13:46:37.050609Z"
    }
   },
   "outputs": [],
   "source": [
    "sc=spark.sparkContext"
   ]
  },
  {
   "cell_type": "code",
   "execution_count": null,
   "metadata": {},
   "outputs": [],
   "source": []
  }
 ],
 "metadata": {
  "hide_input": false,
  "kernelspec": {
   "display_name": "Python 3",
   "language": "python",
   "name": "python3"
  },
  "language_info": {
   "codemirror_mode": {
    "name": "ipython",
    "version": 3
   },
   "file_extension": ".py",
   "mimetype": "text/x-python",
   "name": "python",
   "nbconvert_exporter": "python",
   "pygments_lexer": "ipython3",
   "version": "3.7.6"
  },
  "varInspector": {
   "cols": {
    "lenName": 16,
    "lenType": 16,
    "lenVar": 40
   },
   "kernels_config": {
    "python": {
     "delete_cmd_postfix": "",
     "delete_cmd_prefix": "del ",
     "library": "var_list.py",
     "varRefreshCmd": "print(var_dic_list())"
    },
    "r": {
     "delete_cmd_postfix": ") ",
     "delete_cmd_prefix": "rm(",
     "library": "var_list.r",
     "varRefreshCmd": "cat(var_dic_list()) "
    }
   },
   "types_to_exclude": [
    "module",
    "function",
    "builtin_function_or_method",
    "instance",
    "_Feature"
   ],
   "window_display": false
  }
 },
 "nbformat": 4,
 "nbformat_minor": 4
}
