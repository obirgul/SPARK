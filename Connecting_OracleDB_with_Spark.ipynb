{
 "cells": [
  {
   "cell_type": "code",
   "execution_count": null,
   "metadata": {
    "ExecuteTime": {
     "end_time": "2020-03-06T08:47:58.360032Z",
     "start_time": "2020-03-06T08:47:52.046332Z"
    },
    "hide_input": false
   },
   "outputs": [],
   "source": [
    "from pyspark.sql import SparkSession\n",
    "import findspark\n",
    "findspark.init()\n",
    "\n",
    "\n",
    "spark = SparkSession.builder. \\\n",
    "    master(\"local[4]\"). \\\n",
    "    appName(\"HEADLINE_BASLIK\"). \\\n",
    "    config(\"spark.driver.memory\", \"2g\"). \\\n",
    "    config(\"spark.executor.memory\", \"4g\"). \\\n",
    "    getOrCreate()\n",
    "\n",
    "sc = spark.sparkContext"
   ]
  },
  {
   "cell_type": "code",
   "execution_count": null,
   "metadata": {
    "ExecuteTime": {
     "end_time": "2020-03-06T08:47:58.470729Z",
     "start_time": "2020-03-06T08:47:58.466738Z"
    }
   },
   "outputs": [],
   "source": [
    "query = \"(select * from USERNAME.TABLENAME) emp\""
   ]
  },
  {
   "cell_type": "code",
   "execution_count": null,
   "metadata": {
    "ExecuteTime": {
     "end_time": "2020-03-06T08:48:50.134512Z",
     "start_time": "2020-03-06T08:48:44.700729Z"
    }
   },
   "outputs": [],
   "source": [
    "all_data = spark.read \\\n",
    "    .format(\"jdbc\") \\\n",
    "    .option(\"url\", \"jdbc:oracle:thin:ASK_TO_YOUR_DBA_(DB_URL)\") \\\n",
    "    .option(\"dbtable\", query) \\\n",
    "    .option(\"user\", \"USERNAMMME\") \\\n",
    "    .option(\"password\", \"PASSWORDDDD\") \\\n",
    "    .option(\"driver\", \"oracle.jdbc.driver.OracleDriver\") \\\n",
    "    .load()"
   ]
  },
  {
   "cell_type": "markdown",
   "metadata": {
    "ExecuteTime": {
     "end_time": "2020-03-06T06:36:51.164448Z",
     "start_time": "2020-03-06T06:35:08.460946Z"
    }
   },
   "source": [
    "#all_data = spark.read.csv(\"C:\\\\Users\\\\orcun\\\\Desktop\\\\data_040320.csv\", sep=',', header=True, inferSchema=True)"
   ]
  },
  {
   "cell_type": "code",
   "execution_count": null,
   "metadata": {
    "ExecuteTime": {
     "end_time": "2020-03-06T08:49:26.879489Z",
     "start_time": "2020-03-06T08:49:26.742783Z"
    }
   },
   "outputs": [],
   "source": [
    "columns_to_drop = ['R', 'TARIH', 'TIMEID']\n",
    "all_data = all_data.drop(*columns_to_drop)"
   ]
  },
  {
   "cell_type": "code",
   "execution_count": null,
   "metadata": {
    "ExecuteTime": {
     "end_time": "2020-03-06T08:49:28.230258Z",
     "start_time": "2020-03-06T08:49:27.718630Z"
    }
   },
   "outputs": [],
   "source": [
    "data_not_fraud = all_data[(all_data.FRAUD==0) & (all_data.MINIBUS_KLB==0)].sample(False, 0.5, None).limit(100000)\n",
    "data_fraud = all_data[(all_data.FRAUD==1) & (all_data.MINIBUS_KLB==0)].sample(False, 0.5, None).limit(100000)"
   ]
  },
  {
   "cell_type": "code",
   "execution_count": null,
   "metadata": {
    "ExecuteTime": {
     "end_time": "2020-03-06T08:49:29.185824Z",
     "start_time": "2020-03-06T08:49:29.061193Z"
    }
   },
   "outputs": [],
   "source": [
    "data = data_fraud.union(data_not_fraud)\n",
    "data = data.drop('MINIBUS_KLB')"
   ]
  },
  {
   "cell_type": "code",
   "execution_count": null,
   "metadata": {
    "ExecuteTime": {
     "end_time": "2020-03-06T08:49:30.982416Z",
     "start_time": "2020-03-06T08:49:30.188581Z"
    }
   },
   "outputs": [],
   "source": [
    "data_y = data.select(data.columns[0:2])\n",
    "data_x = data.select(data.columns[2:len(data.columns)])"
   ]
  },
  {
   "cell_type": "markdown",
   "metadata": {},
   "source": [
    "# Spark Common Functions"
   ]
  },
  {
   "cell_type": "markdown",
   "metadata": {
    "ExecuteTime": {
     "end_time": "2020-03-05T08:57:07.708480Z",
     "start_time": "2020-03-05T08:57:06.601664Z"
    }
   },
   "source": [
    "import pandas\n",
    "data_not_fraud.toPandas().to_csv('fileOutput.csv')"
   ]
  },
  {
   "cell_type": "markdown",
   "metadata": {
    "ExecuteTime": {
     "end_time": "2020-03-05T10:25:40.972038Z",
     "start_time": "2020-03-05T10:23:58.615Z"
    }
   },
   "source": [
    "#all_data.select(\"ACCOUNT_ID\",\"FRAUD\").show(10)\n",
    "#dall_data.show(20)\n",
    "#all_data.printSchema()\n",
    "#all_data.count()\n",
    "#all_data.printSchema()"
   ]
  },
  {
   "cell_type": "code",
   "execution_count": null,
   "metadata": {},
   "outputs": [],
   "source": [
    "Array(train, test) = data.randomSplit(Array(0.8, 0.2), seed = 30)"
   ]
  },
  {
   "cell_type": "code",
   "execution_count": null,
   "metadata": {},
   "outputs": [],
   "source": [
    "from pyspark.ml.classification import RandomForestClassifier\n",
    "rf = RandomForestClassifier(numTrees=3, maxDepth=2, labelCol=\"indexed\", seed=42)\n",
    "model = rf.fit(td)"
   ]
  }
 ],
 "metadata": {
  "hide_input": false,
  "kernelspec": {
   "display_name": "Python 3",
   "language": "python",
   "name": "python3"
  },
  "language_info": {
   "codemirror_mode": {
    "name": "ipython",
    "version": 3
   },
   "file_extension": ".py",
   "mimetype": "text/x-python",
   "name": "python",
   "nbconvert_exporter": "python",
   "pygments_lexer": "ipython3",
   "version": "3.7.6"
  },
  "varInspector": {
   "cols": {
    "lenName": 16,
    "lenType": 16,
    "lenVar": 40
   },
   "kernels_config": {
    "python": {
     "delete_cmd_postfix": "",
     "delete_cmd_prefix": "del ",
     "library": "var_list.py",
     "varRefreshCmd": "print(var_dic_list())"
    },
    "r": {
     "delete_cmd_postfix": ") ",
     "delete_cmd_prefix": "rm(",
     "library": "var_list.r",
     "varRefreshCmd": "cat(var_dic_list()) "
    }
   },
   "oldHeight": 185,
   "position": {
    "height": "207px",
    "left": "735px",
    "right": "20px",
    "top": "115px",
    "width": "350px"
   },
   "types_to_exclude": [
    "module",
    "function",
    "builtin_function_or_method",
    "instance",
    "_Feature"
   ],
   "varInspector_section_display": "block",
   "window_display": false
  }
 },
 "nbformat": 4,
 "nbformat_minor": 2
}
